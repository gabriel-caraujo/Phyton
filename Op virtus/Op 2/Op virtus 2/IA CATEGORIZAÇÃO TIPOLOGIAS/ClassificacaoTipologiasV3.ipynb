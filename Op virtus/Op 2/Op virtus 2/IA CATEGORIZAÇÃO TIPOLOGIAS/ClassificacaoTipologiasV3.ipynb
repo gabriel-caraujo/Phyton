{
  "cells": [
    {
      "cell_type": "code",
      "execution_count": null,
      "metadata": {
        "id": "5EJ8RgUaGMBv"
      },
      "outputs": [],
      "source": [
        "!pip install openai==0.28.1 python-dotenv pandas"
      ]
    },
    {
      "cell_type": "code",
      "execution_count": null,
      "metadata": {
        "id": "XccIW07VGKvX"
      },
      "outputs": [],
      "source": [
        "import openai\n",
        "from dotenv import load_dotenv, find_dotenv\n",
        "load_dotenv(find_dotenv(), override=True)"
      ]
    },
    {
      "cell_type": "code",
      "execution_count": null,
      "metadata": {
        "id": "CegKSvyeGs7k"
      },
      "outputs": [],
      "source": [
        "import os\n",
        "#os.getenv(\"OPENAI_API_KEY\")"
      ]
    },
    {
      "cell_type": "code",
      "execution_count": null,
      "metadata": {
        "id": "yQh88mE7pujA"
      },
      "outputs": [],
      "source": [
        "#modelo_gpt = \"gpt-3.5-turbo\"\n",
        "# modelo_gpt = \"gpt-3.5-turbo-1106\"\n",
        "# modelo_gpt = \"gpt-4\"\n",
        "modelo_gpt = \"gpt-4-1106-preview\""
      ]
    },
    {
      "cell_type": "code",
      "execution_count": null,
      "metadata": {
        "id": "52LCDfDKGKvZ"
      },
      "outputs": [],
      "source": [
        "# Testando a comunicação com a OpenAI\n",
        "openai.api_key = os.getenv(\"OPENAI_API_KEY\")\n",
        "resultado = openai.ChatCompletion.create(\n",
        "    model = modelo_gpt,\n",
        "    messages = [{\"role\": \"user\", \"content\": \"Qual a importância de se fazer uma Pós-graduação em Análise de Dados? Responda de forma bem sucinta.\"}],\n",
        ")\n",
        "\n",
        "display(resultado.choices[0].message.content)"
      ]
    },
    {
      "cell_type": "code",
      "execution_count": null,
      "metadata": {
        "id": "bhoOnmmSCxVt"
      },
      "outputs": [],
      "source": [
        "# MetaPrompt\n",
        "system_prompt = \"\"\"Você é um assistente de análise de dados. Dado o relato de um fato feito por uma vítima que conversou com a ouvidoria de um banco, \\\n",
        "  você fará o TAG / classificação do relato exclusivamente em uma das categorias listadas abaixo. Responda EXCLUSIVAMENTE com o TAG, sem complementação \\\n",
        "  sobre a categoria listada. Se o fato não se enquadrar em nenhuma das categorias listadas, responda com NAO_CLASSIFICADO.\n",
        "\n",
        "\n",
        "Lista taxativa de Categorias:\n",
        "APLICATIVO HACKEADO,\n",
        "APLICATIVO OU PAGINA FAKE,\n",
        "COMPROVANTE FALSO,\n",
        "CPF CLONADO,\n",
        "FALSA INDENIZACAO,\n",
        "FALSA DOACAO,\n",
        "FALSA NAMORADA,\n",
        "FALSA NOTA FISCAL,\n",
        "FALSA VENDA DE PRODUTO OU SERVIÇO,\n",
        "FALSO ANTENDENTE BANCARIO,\n",
        "FALSO ANUNCIO,\n",
        "FALSO ATENDENTE,\n",
        "FALSO COMPROVANTE,\n",
        "FALSO CONTRABANDO,\n",
        "FALSA OFERTA DE EMPREGO,\n",
        "FALSO EMPRESTIMO,\n",
        "FALSO EXAME MEDICO,\n",
        "FALSO MEDICO,\n",
        "FALSO PREMIO,\n",
        "FALSO SEGURO,\n",
        "FALSO SEQUESTRO,\n",
        "INVESTIMENTO MILAGROSO,\n",
        "FALSO PARENTE OU AMIGO EM NECESSIDADE,\n",
        "FALSO SEQUESTRO,\n",
        "FALSA DÍVIDA,\n",
        "EXTORSAO,\n",
        "NAO_CLASSIFICADO\n",
        "\"\"\""
      ]
    },
    {
      "cell_type": "code",
      "execution_count": null,
      "metadata": {
        "id": "9GCGQdpzGKva"
      },
      "outputs": [],
      "source": [
        "# Template de prompt para as requisições do usuário\n",
        "def meu_prompt_template(relato_vitima):\n",
        "  return f\"\"\"\n",
        "Relato: {relato_vitima}\n",
        "\n",
        "\n",
        "Categoria Selecionada da Lista:\n",
        "\"\"\""
      ]
    },
    {
      "cell_type": "code",
      "execution_count": null,
      "metadata": {
        "id": "M92EV596GKva"
      },
      "outputs": [],
      "source": [
        "contador = 0\n",
        "# Criar uma função de classificação\n",
        "def classifica_tipologia(registro_vitima):\n",
        "    global system_prompt\n",
        "    global contador\n",
        "\n",
        "    if registro_vitima is None or registro_vitima.strip() == \"\":\n",
        "        return \"NAO CLASSIFICADO\"\n",
        "    prompt = meu_prompt_template(registro_vitima)\n",
        "\n",
        "    contador += 1\n",
        "    print(f\"{contador}:\", end='')\n",
        "    print(prompt)\n",
        "\n",
        "    resultado = openai.ChatCompletion.create(\n",
        "        model = modelo_gpt,\n",
        "        messages = [\n",
        "            {\"role\": \"system\", \"content\": system_prompt},\n",
        "            {\"role\": \"user\", \"content\": prompt}\n",
        "        ],\n",
        "        max_tokens = 1000\n",
        "    )\n",
        "    classificacao = resultado.choices[0].message.content;\n",
        "\n",
        "    print(classificacao)\n",
        "    print(\"--------------\")\n",
        "    print()\n",
        "\n",
        "    return classificacao\n",
        "\n",
        "print(f\"Será usado o modelo {modelo_gpt}\")"
      ]
    },
    {
      "cell_type": "code",
      "execution_count": null,
      "metadata": {
        "id": "3eBbwUdsGKva"
      },
      "outputs": [],
      "source": [
        "#  leitura dos dados\n",
        "import pandas as pd\n",
        "pd_tipologias = pd.read_excel(\"Demonstração Categorização IA.xlsx\", sheet_name=\"OCORRENCIAS\")"
      ]
    },
    {
      "cell_type": "code",
      "execution_count": null,
      "metadata": {
        "id": "XcRKIR8uGKva"
      },
      "outputs": [],
      "source": [
        "contador = 0;\n",
        "#  função (transformação) sobre uma coluna, gerando uma nova coluna\n",
        "pd_tipologias[\"TIPOLOGIA\"] = pd_tipologias[\"REGISTRO DA VÍTIMA\"].apply(lambda x: classifica_tipologia(x))"
      ]
    },
    {
      "cell_type": "code",
      "execution_count": null,
      "metadata": {
        "id": "uD7PKzwh6pMw"
      },
      "outputs": [],
      "source": [
        "# Salvar os resultados para uma nova planilha\n",
        "\n",
        "pd_tipologias.to_excel(f\"Categorização IA - resultado_{modelo_gpt}.xlsx\", index=False)"
      ]
    }
  ],
  "metadata": {
    "colab": {
      "provenance": []
    },
    "kernelspec": {
      "display_name": "chatvirtus_3.10",
      "language": "python",
      "name": "python3"
    },
    "language_info": {
      "codemirror_mode": {
        "name": "ipython",
        "version": 3
      },
      "file_extension": ".py",
      "mimetype": "text/x-python",
      "name": "python",
      "nbconvert_exporter": "python",
      "pygments_lexer": "ipython3",
      "version": "3.10.12"
    }
  },
  "nbformat": 4,
  "nbformat_minor": 0
}
