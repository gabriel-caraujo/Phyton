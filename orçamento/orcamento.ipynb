{
 "cells": [
  {
   "cell_type": "markdown",
   "metadata": {},
   "source": [
    "# Sistema de orçamentos"
   ]
  },
  {
   "cell_type": "code",
   "execution_count": null,
   "metadata": {
    "vscode": {
     "languageId": "plaintext"
    }
   },
   "outputs": [],
   "source": [
    "print(\"orçamento gerado com phyton\")"
   ]
  },
  {
   "cell_type": "markdown",
   "metadata": {},
   "source": [
    "## Entrada de dados do usuário"
   ]
  },
  {
   "cell_type": "code",
   "execution_count": null,
   "metadata": {
    "vscode": {
     "languageId": "plaintext"
    }
   },
   "outputs": [],
   "source": [
    "input(\"Digite a descrição do projeto: \")\n",
    "input(\"Digite a quantidade de horas previstas: \")\n",
    "input(\"Digite o valo da hora trabalhada: \")\n",
    "input(\"Digite o prazo: \")"
   ]
  },
  {
   "cell_type": "markdown",
   "metadata": {},
   "source": [
    "## Armazenando dados váriaveis\n",
    "- tem que fazer sentido\n",
    "- não pode comecar com numeros\n",
    "- não pode ter espaço\n",
    "- não pode palavra reservada\n",
    "\n",
    "- igual atribui dados a variaveis "
   ]
  },
  {
   "cell_type": "code",
   "execution_count": null,
   "metadata": {
    "vscode": {
     "languageId": "plaintext"
    }
   },
   "outputs": [],
   "source": [
    "projeto = input(\"Digite a descrição  do projeto: \")\n",
    "horas_previstas = input(\"Digite as horas previstas: \")\n",
    "valor_hora = input(\"Digite o valor da hora trabalhada: \")\n",
    "prazo = input(\"Digite o prazo: \")"
   ]
  },
  {
   "cell_type": "markdown",
   "metadata": {},
   "source": [
    "## calculando o valor total do projeto\n",
    "\n",
    "- quantidade de horas previstas * valor da hora trabalhada"
   ]
  },
  {
   "cell_type": "markdown",
   "metadata": {},
   "source": [
    "valor_total = int(horas_previstas)*int(valor_hora)"
   ]
  },
  {
   "cell_type": "markdown",
   "metadata": {},
   "source": [
    "### tipos de dados\n",
    "- textos str\n",
    "- numerico int"
   ]
  },
  {
   "cell_type": "markdown",
   "metadata": {},
   "source": [
    "### conversão de tipos\n",
    "\n",
    "- para texto str()\n",
    "- para numero inteiro int()"
   ]
  },
  {
   "cell_type": "markdown",
   "metadata": {},
   "source": [
    "### Gerando PDF do projeto"
   ]
  },
  {
   "cell_type": "code",
   "execution_count": null,
   "metadata": {
    "vscode": {
     "languageId": "plaintext"
    }
   },
   "outputs": [],
   "source": [
    "!pip install fpdf   "
   ]
  },
  {
   "cell_type": "code",
   "execution_count": null,
   "metadata": {
    "vscode": {
     "languageId": "plaintext"
    }
   },
   "outputs": [],
   "source": [
    "from fpdf import FPDF"
   ]
  },
  {
   "cell_type": "code",
   "execution_count": null,
   "metadata": {
    "vscode": {
     "languageId": "plaintext"
    }
   },
   "outputs": [],
   "source": [
    "pdf = FPDF()\n",
    "\n",
    "pdf.add_page()\n",
    "pdf.set_font(\"Arial\")\n",
    "pdf.image(\"template.png, x=0,y=0)\n",
    "\n",
    "pdf.text(115,145, projeto)\n",
    "pdf.text(115,160, horas_previstas)\n",
    "pdf.text(115,190, valor_hora)\n",
    "pdf.text(115,205, str(valor_total))\n",
    "\n",
    "pdf.output(\"Orçamento.pdf\")\n",
    "print(\"orçamento gerado com sucesso\")"
   ]
  },
  {
   "cell_type": "code",
   "execution_count": null,
   "metadata": {
    "vscode": {
     "languageId": "plaintext"
    }
   },
   "outputs": [],
   "source": []
  }
 ],
 "metadata": {
  "language_info": {
   "name": "python"
  },
  "orig_nbformat": 4
 },
 "nbformat": 4,
 "nbformat_minor": 2
}
