{
 "cells": [
  {
   "cell_type": "markdown",
   "metadata": {},
   "source": [
    "# Automatização de processos\n",
    "\n",
    "- passo 1: busca infomações das ações de fora automática\n",
    "- passo 2: criar as análises dos dados\n",
    "- passo 3: enviar um email com os resultados das análises"
   ]
  },
  {
   "cell_type": "markdown",
   "metadata": {},
   "source": [
    "## passo 1"
   ]
  },
  {
   "cell_type": "code",
   "execution_count": null,
   "metadata": {},
   "outputs": [],
   "source": [
    "!pip install yfinance"
   ]
  },
  {
   "cell_type": "code",
   "execution_count": null,
   "metadata": {},
   "outputs": [],
   "source": [
    "import yfinance as yf"
   ]
  },
  {
   "cell_type": "code",
   "execution_count": null,
   "metadata": {},
   "outputs": [],
   "source": [
    "ticker = input(\"Digite o código da ação \")\n",
    "dados = yf.Ticker(ticker).history(5d)"
   ]
  },
  {
   "cell_type": "code",
   "execution_count": null,
   "metadata": {},
   "outputs": [],
   "source": [
    "fechamento = dados.Close"
   ]
  },
  {
   "cell_type": "code",
   "execution_count": null,
   "metadata": {},
   "outputs": [],
   "source": [
    "fechamento.plot()"
   ]
  },
  {
   "cell_type": "markdown",
   "metadata": {},
   "source": [
    "## Passo 2\n",
    "\n",
    "- cotação maxima\n",
    "- cotação minima\n",
    "- cotação atual"
   ]
  },
  {
   "cell_type": "code",
   "execution_count": null,
   "metadata": {},
   "outputs": [],
   "source": [
    "maxima = round(fechamento.max(), 2)\n",
    "minima = round(fechamento.min(), 2)\n",
    "atual = round(fechamento [-1], 2)\n",
    "\n",
    "print(f\"a cotação maxima é: R$(maxima)\")\n",
    "print(f\"a cotação minima é: R$(minima)\")\n",
    "prin(f\"a cotação atual é :R$(atual)\")"
   ]
  },
  {
   "cell_type": "markdown",
   "metadata": {},
   "source": [
    "## Passo 3: enviar email\n",
    "\n",
    "- abrir aba nova\n",
    "- digitar endereço do gmail enter\n",
    "- clicar no botão escrever\n",
    "- digitar o destinatário, TAB\n",
    "- digitar assunto, TAB\n",
    "- digitar a mensagem do email\n",
    "- clicar em enviar"
   ]
  },
  {
   "cell_type": "code",
   "execution_count": null,
   "metadata": {},
   "outputs": [],
   "source": [
    "!pip install pyautogui"
   ]
  },
  {
   "cell_type": "code",
   "execution_count": null,
   "metadata": {},
   "outputs": [],
   "source": [
    "!pip install pyperclip"
   ]
  },
  {
   "cell_type": "code",
   "execution_count": null,
   "metadata": {},
   "outputs": [],
   "source": [
    "import pyautogui\n",
    "import pyperclip"
   ]
  },
  {
   "cell_type": "code",
   "execution_count": null,
   "metadata": {},
   "outputs": [],
   "source": [
    "# pausa\n",
    "pyautogui.PAUSE = 2\n",
    "\n",
    "# abrir aba ctrl +t\n",
    "\n",
    "pyautogui.hotkey(\"ctrl\",\"t\")\n",
    "\n",
    "#digitar endereco do gmail, enter\n",
    "pyperclip.copy(\"mail.google.com\")\n",
    "pyautogui.hotkey(\"ctrl\",\"v\")\n",
    "pyautogui.hotkey(\"enter\")\n",
    "\n",
    "#clicar no botao escrever\n",
    "pyautogui.click(\"escrever\")\n",
    "\n",
    "#digitar destinatario\n",
    "pyperclip.copy(\"gestor@gmail.com\")\n",
    "pyautogui.hotkey(\"ctrl\", \"v\")\n",
    "pyautogui.hotkey(\"TAB\")\n",
    "\n",
    "#digitar assunto\n",
    "pyperclip.copy(\"Análises diarias\")\n",
    "pyautogui.hotkey(\"ctrl\", \"v\")\n",
    "pyautogui.hotkey(\"TAB\")\n",
    "\n",
    "#digitar mensagem\n",
    "mensagem = f''' \n",
    "Prezado gestor,\n",
    "\n",
    "Seguem as análises , conforme solicitado, da ação {ticker}referente aos ultimos meses:\n",
    "\n",
    "cotação maxima: R${maxima}\n",
    "cotação minima: R$x{minima}\n",
    "cotação atual: R${atual}\n",
    "\n",
    "'''\n",
    "\n",
    "pyperclip.copy(mensagem)\n",
    "pyautogui.hotkey(\"ctrl\",\"v\")"
   ]
  },
  {
   "cell_type": "markdown",
   "metadata": {},
   "source": [
    "#### achar botão\n",
    "\n",
    "-import time\n",
    "-time.sleep(5)\n",
    "\n",
    "-pyautogui.position()"
   ]
  }
 ],
 "metadata": {
  "language_info": {
   "name": "python"
  },
  "orig_nbformat": 4
 },
 "nbformat": 4,
 "nbformat_minor": 2
}
